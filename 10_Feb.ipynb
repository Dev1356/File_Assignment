{
 "cells": [
  {
   "cell_type": "markdown",
   "id": "4ee33b8d-8b3a-4b9d-8e61-92d0fed23425",
   "metadata": {},
   "source": [
    "### Q1. Which function is used to open a file? What are the different modes of opening a file? Explain each mode of file opening."
   ]
  },
  {
   "cell_type": "raw",
   "id": "94e68a25-3e13-4d84-904d-51002995a81e",
   "metadata": {},
   "source": [
    "In Python, the open() function is used to open a file. The open() function returns a file object, which can then be used to read from or write to the file.\n",
    "\n",
    "The open() function takes two arguments: the name of the file to open, and the mode in which to open the file. The mode parameter is optional and defaults to 'r', which opens the file in read-only mode.\n",
    "\n",
    "Here are the different modes of opening a file in Python:\n",
    "\n",
    "'r': Read mode. This is the default mode. Opens the file for reading. If the file does not exist, raises a FileNotFoundError exception.\n",
    "\n",
    "'w': Write mode. Opens the file for writing. If the file exists, its contents are truncated. If the file does not exist, a new file is created.\n",
    "\n",
    "'x': Exclusive creation mode. Opens the file for writing, but only if the file does not exist. If the file exists, raises a FileExistsError exception.\n",
    "\n",
    "'a': Append mode. Opens the file for writing, but appends new data to the end of the file instead of overwriting existing data. If the file does not exist, a new file is created.\n",
    "\n",
    "'b': Binary mode. Opens the file in binary mode, which is used for reading or writing binary data like images or audio files.\n",
    "\n",
    "'t': Text mode. Opens the file in text mode, which is used for reading or writing text data like strings.\n",
    "\n",
    "'+': Update mode. Opens the file for both reading and writing.\n",
    "\n",
    "To specify multiple modes, you can concatenate them using the + operator. For example, 'rb' is a binary read mode, while 'w+' is a write and read mode."
   ]
  },
  {
   "cell_type": "code",
   "execution_count": null,
   "id": "dd7119c1-0bcb-40cf-b918-f75490721a6a",
   "metadata": {},
   "outputs": [],
   "source": []
  },
  {
   "cell_type": "markdown",
   "id": "a3deb278-9d51-46e5-8e9b-eee5c7451544",
   "metadata": {},
   "source": [
    "### Q2. Why close() function is used? Why is it important to close a file?"
   ]
  },
  {
   "cell_type": "raw",
   "id": "ddac798f-63ef-4cc9-b2f8-cb9571940b28",
   "metadata": {},
   "source": [
    "It is important to close a file after reading from or writing to it using the close() function, because it frees up system resources used by the file and ensures that any changes made to the file are saved.\n",
    "\n",
    "When you open a file using the open() function, the operating system allocates resources to the file, such as memory and file descriptors. These resources are limited, so it's important to release them when you're done using the file. If you don't close the file, the resources used by the file will remain allocated until the Python interpreter exits or the program terminates, which can cause performance problems or even crashes if you open too many files.\n",
    "\n",
    "In addition to freeing up system resources, closing a file ensures that any changes made to the file are saved. When you write to a file, the data is often buffered in memory before being written to disk. If you don't close the file, the buffer may not be flushed to disk, and any changes you made to the file might be lost if the program terminates unexpectedly."
   ]
  },
  {
   "cell_type": "code",
   "execution_count": null,
   "id": "af62a5b4-12c9-479c-8f28-3a4754695e8b",
   "metadata": {},
   "outputs": [],
   "source": []
  },
  {
   "cell_type": "markdown",
   "id": "7345e3e2-5111-405e-b9a0-379de7c95d7f",
   "metadata": {},
   "source": [
    "### Q3. Write a python program to create a text file. Write ‘I want to become a Data Scientist’ in that file. Then close the file. Open this file and read the content of the file."
   ]
  },
  {
   "cell_type": "code",
   "execution_count": 2,
   "id": "7ff88707-d35f-446f-a36f-bfa5509f8a9b",
   "metadata": {},
   "outputs": [],
   "source": [
    "File=open(\"text.txt\",\"w\")"
   ]
  },
  {
   "cell_type": "code",
   "execution_count": 3,
   "id": "6d05360a-06cc-41c1-a77d-61791e1ceb0a",
   "metadata": {},
   "outputs": [],
   "source": [
    "File.write(\"I want to become a Data Scientist\")\n",
    "File.close()\n"
   ]
  },
  {
   "cell_type": "code",
   "execution_count": 9,
   "id": "95799f13-57c4-4196-ab9c-ae082efa5d85",
   "metadata": {},
   "outputs": [
    {
     "name": "stdout",
     "output_type": "stream",
     "text": [
      "I want to become a Data Scientist\n"
     ]
    }
   ],
   "source": [
    "File=open(\"text.txt\",\"r\")\n",
    "content=File.read()\n",
    "print(content)"
   ]
  },
  {
   "cell_type": "code",
   "execution_count": null,
   "id": "5f3b889c-1bb0-44ca-bc8f-dc327354abf6",
   "metadata": {},
   "outputs": [],
   "source": []
  },
  {
   "cell_type": "markdown",
   "id": "bf6f84d3-9e84-4c5f-8ebf-d051b6285ba4",
   "metadata": {},
   "source": [
    "### Q4. Explain the following with python code: read(), readline() and readlines()."
   ]
  },
  {
   "cell_type": "raw",
   "id": "707222e1-792d-481a-9abd-a2e9e278e15a",
   "metadata": {},
   "source": [
    "read(): This method reads the entire contents of a file as a single string. You can optionally specify the number of characters to read as an argument. If no argument is specified, the entire file is read."
   ]
  },
  {
   "cell_type": "raw",
   "id": "25bd813f-fbfe-4181-8c53-540c96e8e2ef",
   "metadata": {},
   "source": [
    "readline(): This method reads a single line of text from a file and returns it as a string. Subsequent calls to readline() will read the next line of text until the end of the file is reached."
   ]
  },
  {
   "cell_type": "raw",
   "id": "9a942203-799a-44ae-8e4e-d51271be6bcf",
   "metadata": {},
   "source": [
    "readlines(): This method reads all lines of text from a file and returns them as a list of strings."
   ]
  },
  {
   "cell_type": "code",
   "execution_count": null,
   "id": "92d5af38-fa5d-41c1-b939-5cbd11533a05",
   "metadata": {},
   "outputs": [],
   "source": []
  },
  {
   "cell_type": "markdown",
   "id": "3bd1c644-16dd-4122-b329-03fa0951c18d",
   "metadata": {},
   "source": [
    "### Q5. Explain why with statement is used with open(). What is the advantage of using with statement and open() together?"
   ]
  },
  {
   "cell_type": "raw",
   "id": "654766ad-b3e0-48be-b31c-d8c6e513d8e9",
   "metadata": {},
   "source": [
    "In Python, the with statement is used in conjunction with the open() function to open a file in a way that ensures that the file is closed properly when you're done with it. The advantage of using the with statement and open() together is that it helps prevent resource leaks and makes your code more concise and readable.\n",
    "\n",
    "When you open a file using the open() function in Python, the operating system allocates resources to the file, such as memory and file descriptors. These resources are limited, so it's important to release them when you're done using the file. If you don't close the file, the resources used by the file will remain allocated until the Python interpreter exits or the program terminates, which can cause performance problems or even crashes if you open too many files.\n",
    "\n",
    "The with statement provides a way to ensure that a file is closed properly after it has been used. When you use the with statement, Python automatically takes care of closing the file for you, even if an error occurs while the file is being used."
   ]
  },
  {
   "cell_type": "code",
   "execution_count": null,
   "id": "649d01a4-dc76-4f24-93b9-c5ada91d8ff4",
   "metadata": {},
   "outputs": [],
   "source": []
  },
  {
   "cell_type": "markdown",
   "id": "c6eb1f2e-2abb-44d2-8742-35908802dc1e",
   "metadata": {},
   "source": [
    "### Q6. Explain the write() and writelines() functions. Give a suitable example."
   ]
  },
  {
   "cell_type": "raw",
   "id": "0128f77f-bbbc-49a5-b690-2cabf136f7c2",
   "metadata": {},
   "source": [
    "write() function: This function is used to write a string of text to a file. If the file does not exist, it will be created. If the file does exist, the new text will be appended to the end of the file. Here's an example:"
   ]
  },
  {
   "cell_type": "code",
   "execution_count": 10,
   "id": "dbafe7a3-7b11-4278-8a34-552f38152be9",
   "metadata": {},
   "outputs": [],
   "source": [
    "with open('example.txt', 'w') as f:\n",
    "    f.write('This is the first line.\\n')\n",
    "    f.write('This is the second line.\\n')"
   ]
  },
  {
   "cell_type": "raw",
   "id": "2daed8f7-0b7c-4ed8-bac1-07027e963f4e",
   "metadata": {},
   "source": [
    "writelines() function: This function is used to write a list of strings to a file. Each string in the list will be written to the file as a separate line. Here's an example:"
   ]
  },
  {
   "cell_type": "code",
   "execution_count": 11,
   "id": "6f09d752-9918-4b26-aabb-6acc64d09690",
   "metadata": {},
   "outputs": [],
   "source": [
    "lines = ['This is the first line.\\n', 'This is the second line.\\n']\n",
    "\n",
    "with open('example2.txt', 'w') as f:\n",
    "    f.writelines(lines)"
   ]
  },
  {
   "cell_type": "code",
   "execution_count": null,
   "id": "94b1171a-c3a8-485e-bc1e-00fe4dac14e1",
   "metadata": {},
   "outputs": [],
   "source": []
  }
 ],
 "metadata": {
  "kernelspec": {
   "display_name": "Python 3 (ipykernel)",
   "language": "python",
   "name": "python3"
  },
  "language_info": {
   "codemirror_mode": {
    "name": "ipython",
    "version": 3
   },
   "file_extension": ".py",
   "mimetype": "text/x-python",
   "name": "python",
   "nbconvert_exporter": "python",
   "pygments_lexer": "ipython3",
   "version": "3.10.8"
  }
 },
 "nbformat": 4,
 "nbformat_minor": 5
}
